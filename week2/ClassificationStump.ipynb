{
 "cells": [
  {
   "cell_type": "code",
   "execution_count": 101,
   "id": "1d1fa8d5",
   "metadata": {},
   "outputs": [
    {
     "name": "stdout",
     "output_type": "stream",
     "text": [
      "0\n",
      "0.83\n"
     ]
    },
    {
     "data": {
      "text/plain": [
       "<matplotlib.colorbar.Colorbar at 0x2cc2030be50>"
      ]
     },
     "execution_count": 101,
     "metadata": {},
     "output_type": "execute_result"
    },
    {
     "data": {
      "image/png": "[encoded data removed]",
      "text/plain": [
       "<Figure size 432x288 with 2 Axes>"
      ]
     },
     "metadata": {
      "needs_background": "light"
     },
     "output_type": "display_data"
    }
   ],
   "source": [
    "import numpy as np\n",
    "from matplotlib import pyplot as plt\n",
    "\n",
    "class ClassificationStump():\n",
    "    def __init__(self):\n",
    "        self.idx = None\n",
    "        self.val = None\n",
    "        self.left = None\n",
    "        self.right = None\n",
    "    \n",
    "    def fit(self, data, targets):\n",
    "        n = data.shape[0]\n",
    "        d = data.shape[1]\n",
    "        lowest_cost = np.inf\n",
    "        for idx in range(d): # O(d)\n",
    "            x = data[:, idx]\n",
    "            sort_idx = np.argsort(x) # O(n*log(n))\n",
    "            x_sorted = x[sort_idx]\n",
    "            y = targets[sort_idx].flatten()\n",
    "            for split_idx in range(1, n): # O(n)\n",
    "                y_left = y[:split_idx]\n",
    "                y_right = y[split_idx:]\n",
    "                \n",
    "                left = int(np.round(np.mean(y_left)))\n",
    "                right = int(np.round(np.mean(y_right)))\n",
    "                \n",
    "                cost_left = np.sum(np.abs(y_left - left)) / n\n",
    "                cost_right = np.sum(np.abs(y_right - right)) / n\n",
    "                cost = cost_left + cost_right\n",
    "                \n",
    "                if cost < lowest_cost:\n",
    "                    lowest_cost = cost\n",
    "                    self.idx = idx\n",
    "                    self.val = (x_sorted[split_idx - 1] + x_sorted[split_idx]) / 2\n",
    "                    self.left = left\n",
    "                    self.right = right\n",
    "\n",
    "    def predict(self, X):\n",
    "        return np.array([[self.left] if x < self.val else [self.right] for x in X[:, self.idx]])\n",
    "    \n",
    "    def score(self, X, y):\n",
    "        pred = self.predict(X)\n",
    "        return 1 - np.sum(np.abs(pred - y)) / X.shape[0]\n",
    "\n",
    "n = 100\n",
    "d = 5\n",
    "data = np.random.rand(n, d)\n",
    "targets = np.random.rand(n, 1)\n",
    "idx = 0\n",
    "disorder = 0.5\n",
    "data[:, idx] = np.linspace(0, 1, n)\n",
    "targets[data[:, idx] < 0.5] = 0\n",
    "targets[data[:, idx] >= 0.5] = 1\n",
    "data[:, idx] += disorder * 2 * (np.random.rand(n) - 0.5)\n",
    "stump = ClassificationStump()\n",
    "stump.fit(data, targets)\n",
    "print(stump.idx)\n",
    "print(stump.score(data, targets))\n",
    "\n",
    "plt.figure()\n",
    "plt.scatter(data[:, idx], stump.predict(data), c=targets, s=4)\n",
    "plt.colorbar()"
   ]
  },
  {
   "cell_type": "code",
   "execution_count": null,
   "id": "9dd7d6b2",
   "metadata": {},
   "outputs": [],
   "source": []
  },
  {
   "cell_type": "code",
   "execution_count": null,
   "id": "c5faa4a5",
   "metadata": {},
   "outputs": [],
   "source": []
  }
 ],
 "metadata": {
  "kernelspec": {
   "display_name": "Python 3 (ipykernel)",
   "language": "python",
   "name": "python3"
  },
  "language_info": {
   "codemirror_mode": {
    "name": "ipython",
    "version": 3
   },
   "file_extension": ".py",
   "mimetype": "text/x-python",
   "name": "python",
   "nbconvert_exporter": "python",
   "pygments_lexer": "ipython3",
   "version": "3.10.5"
  }
 },
 "nbformat": 4,
 "nbformat_minor": 5
}
